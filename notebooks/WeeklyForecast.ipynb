{
 "cells": [
  {
   "cell_type": "code",
   "execution_count": 2,
   "id": "5605ac2a",
   "metadata": {},
   "outputs": [],
   "source": [
    "import pandas as pd\n",
    "import numpy as np\n",
    "import matplotlib.pyplot as plt\n",
    "import seaborn as sns\n",
    "import datetime as dt\n",
    "\n",
    "from sklearn.model_selection import TimeSeriesSplit\n",
    "from statsmodels.graphics.tsaplots import plot_acf, plot_pacf\n",
    "from prophet import Prophet\n",
    "from sklearn.metrics import mean_absolute_percentage_error as mape"
   ]
  },
  {
   "cell_type": "code",
   "execution_count": 3,
   "id": "8db90117",
   "metadata": {},
   "outputs": [
    {
     "data": {
      "application/javascript": [
       "\n",
       "            setTimeout(function() {\n",
       "                var nbb_cell_id = 3;\n",
       "                var nbb_unformatted_code = \"%load_ext nb_black\";\n",
       "                var nbb_formatted_code = \"%load_ext nb_black\";\n",
       "                var nbb_cells = Jupyter.notebook.get_cells();\n",
       "                for (var i = 0; i < nbb_cells.length; ++i) {\n",
       "                    if (nbb_cells[i].input_prompt_number == nbb_cell_id) {\n",
       "                        if (nbb_cells[i].get_text() == nbb_unformatted_code) {\n",
       "                             nbb_cells[i].set_text(nbb_formatted_code);\n",
       "                        }\n",
       "                        break;\n",
       "                    }\n",
       "                }\n",
       "            }, 500);\n",
       "            "
      ],
      "text/plain": [
       "<IPython.core.display.Javascript object>"
      ]
     },
     "metadata": {},
     "output_type": "display_data"
    }
   ],
   "source": [
    "%load_ext nb_black"
   ]
  },
  {
   "cell_type": "code",
   "execution_count": 4,
   "id": "d4bc0a2b",
   "metadata": {},
   "outputs": [
    {
     "data": {
      "application/javascript": [
       "\n",
       "            setTimeout(function() {\n",
       "                var nbb_cell_id = 4;\n",
       "                var nbb_unformatted_code = \"plt.rcParams[\\\"figure.figsize\\\"] = (16, 10)\";\n",
       "                var nbb_formatted_code = \"plt.rcParams[\\\"figure.figsize\\\"] = (16, 10)\";\n",
       "                var nbb_cells = Jupyter.notebook.get_cells();\n",
       "                for (var i = 0; i < nbb_cells.length; ++i) {\n",
       "                    if (nbb_cells[i].input_prompt_number == nbb_cell_id) {\n",
       "                        if (nbb_cells[i].get_text() == nbb_unformatted_code) {\n",
       "                             nbb_cells[i].set_text(nbb_formatted_code);\n",
       "                        }\n",
       "                        break;\n",
       "                    }\n",
       "                }\n",
       "            }, 500);\n",
       "            "
      ],
      "text/plain": [
       "<IPython.core.display.Javascript object>"
      ]
     },
     "metadata": {},
     "output_type": "display_data"
    }
   ],
   "source": [
    "plt.rcParams[\"figure.figsize\"] = (16, 10)"
   ]
  },
  {
   "cell_type": "markdown",
   "id": "da8189b5",
   "metadata": {},
   "source": [
    "----------------------------------------"
   ]
  },
  {
   "cell_type": "markdown",
   "id": "7bf19053",
   "metadata": {},
   "source": [
    "## Read Data"
   ]
  },
  {
   "cell_type": "code",
   "execution_count": 8,
   "id": "c1c0bcda",
   "metadata": {},
   "outputs": [
    {
     "data": {
      "application/javascript": [
       "\n",
       "            setTimeout(function() {\n",
       "                var nbb_cell_id = 8;\n",
       "                var nbb_unformatted_code = \"trips = pd.read_csv(\\\"../data/trips/daily_trips.csv\\\")\\ntrips.date = pd.to_datetime(trips.date)\\ntrips.rename(columns={\\\"date\\\": \\\"ds\\\", \\\"daily_trips\\\": \\\"y\\\"}, inplace=True)\\ntrips.sort_values('ds', inplace=True)\\n\\nweather = pd.read_csv(\\\"../data/weather/daily_weather.csv\\\")\\nweather.date = pd.to_datetime(weather.date)\\nweather.rename(\\n    columns={\\n        \\\"date\\\": \\\"ds\\\",\\n        \\\"Normal_Max_Temp_C\\\": \\\"tmax\\\",\\n        \\\"Normal_Min_Temp_C\\\": \\\"tmin\\\",\\n        \\\"Normal_Precipitation_CM\\\": \\\"precip\\\",\\n    },\\n    inplace=True,\\n)\\n\\ntrips = pd.merge(trips, weather, on=\\\"ds\\\", how=\\\"left\\\")\\n\\nholidays = pd.read_csv(\\\"../data/holidays/holidays.csv\\\")\\nholidays.ds = pd.to_datetime(holidays.ds)\";\n",
       "                var nbb_formatted_code = \"trips = pd.read_csv(\\\"../data/trips/daily_trips.csv\\\")\\ntrips.date = pd.to_datetime(trips.date)\\ntrips.rename(columns={\\\"date\\\": \\\"ds\\\", \\\"daily_trips\\\": \\\"y\\\"}, inplace=True)\\ntrips.sort_values(\\\"ds\\\", inplace=True)\\n\\nweather = pd.read_csv(\\\"../data/weather/daily_weather.csv\\\")\\nweather.date = pd.to_datetime(weather.date)\\nweather.rename(\\n    columns={\\n        \\\"date\\\": \\\"ds\\\",\\n        \\\"Normal_Max_Temp_C\\\": \\\"tmax\\\",\\n        \\\"Normal_Min_Temp_C\\\": \\\"tmin\\\",\\n        \\\"Normal_Precipitation_CM\\\": \\\"precip\\\",\\n    },\\n    inplace=True,\\n)\\n\\ntrips = pd.merge(trips, weather, on=\\\"ds\\\", how=\\\"left\\\")\\n\\nholidays = pd.read_csv(\\\"../data/holidays/holidays.csv\\\")\\nholidays.ds = pd.to_datetime(holidays.ds)\";\n",
       "                var nbb_cells = Jupyter.notebook.get_cells();\n",
       "                for (var i = 0; i < nbb_cells.length; ++i) {\n",
       "                    if (nbb_cells[i].input_prompt_number == nbb_cell_id) {\n",
       "                        if (nbb_cells[i].get_text() == nbb_unformatted_code) {\n",
       "                             nbb_cells[i].set_text(nbb_formatted_code);\n",
       "                        }\n",
       "                        break;\n",
       "                    }\n",
       "                }\n",
       "            }, 500);\n",
       "            "
      ],
      "text/plain": [
       "<IPython.core.display.Javascript object>"
      ]
     },
     "metadata": {},
     "output_type": "display_data"
    }
   ],
   "source": [
    "trips = pd.read_csv(\"../data/trips/daily_trips.csv\")\n",
    "trips.date = pd.to_datetime(trips.date)\n",
    "trips.rename(columns={\"date\": \"ds\", \"daily_trips\": \"y\"}, inplace=True)\n",
    "trips.sort_values(\"ds\", inplace=True)\n",
    "\n",
    "weather = pd.read_csv(\"../data/weather/daily_weather.csv\")\n",
    "weather.date = pd.to_datetime(weather.date)\n",
    "weather.rename(\n",
    "    columns={\n",
    "        \"date\": \"ds\",\n",
    "        \"Normal_Max_Temp_C\": \"tmax\",\n",
    "        \"Normal_Min_Temp_C\": \"tmin\",\n",
    "        \"Normal_Precipitation_CM\": \"precip\",\n",
    "    },\n",
    "    inplace=True,\n",
    ")\n",
    "\n",
    "trips = pd.merge(trips, weather, on=\"ds\", how=\"left\")\n",
    "\n",
    "holidays = pd.read_csv(\"../data/holidays/holidays.csv\")\n",
    "holidays.ds = pd.to_datetime(holidays.ds)"
   ]
  },
  {
   "cell_type": "markdown",
   "id": "6da5e86c",
   "metadata": {},
   "source": [
    "-------------------"
   ]
  },
  {
   "cell_type": "markdown",
   "id": "e41b60c6",
   "metadata": {},
   "source": [
    "## Bike Rental Forecaster"
   ]
  },
  {
   "cell_type": "code",
   "execution_count": 27,
   "id": "2b5771cf",
   "metadata": {},
   "outputs": [
    {
     "data": {
      "application/javascript": [
       "\n",
       "            setTimeout(function() {\n",
       "                var nbb_cell_id = 27;\n",
       "                var nbb_unformatted_code = \"def get_predict_range(predict_beg_d, horizon, freq):\\n    predict_beg_d = pd.to_datetime(predict_beg_d)\\n    end_range = predict_beg_d + pd.Timedelta(horizon - 1, freq)\\n    return (predict_beg_d, end_range)\";\n",
       "                var nbb_formatted_code = \"def get_predict_range(predict_beg_d, horizon, freq):\\n    predict_beg_d = pd.to_datetime(predict_beg_d)\\n    end_range = predict_beg_d + pd.Timedelta(horizon - 1, freq)\\n    return (predict_beg_d, end_range)\";\n",
       "                var nbb_cells = Jupyter.notebook.get_cells();\n",
       "                for (var i = 0; i < nbb_cells.length; ++i) {\n",
       "                    if (nbb_cells[i].input_prompt_number == nbb_cell_id) {\n",
       "                        if (nbb_cells[i].get_text() == nbb_unformatted_code) {\n",
       "                             nbb_cells[i].set_text(nbb_formatted_code);\n",
       "                        }\n",
       "                        break;\n",
       "                    }\n",
       "                }\n",
       "            }, 500);\n",
       "            "
      ],
      "text/plain": [
       "<IPython.core.display.Javascript object>"
      ]
     },
     "metadata": {},
     "output_type": "display_data"
    }
   ],
   "source": [
    "def get_predict_range(predict_beg_d, horizon, freq):\n",
    "    predict_beg_d = pd.to_datetime(predict_beg_d)\n",
    "    end_range = predict_beg_d + pd.Timedelta(horizon - 1, freq)\n",
    "    return (predict_beg_d, end_range)"
   ]
  },
  {
   "cell_type": "code",
   "execution_count": 26,
   "id": "c5d4d024",
   "metadata": {},
   "outputs": [
    {
     "data": {
      "text/plain": [
       "Timestamp('2016-01-14 00:00:00')"
      ]
     },
     "execution_count": 26,
     "metadata": {},
     "output_type": "execute_result"
    },
    {
     "data": {
      "application/javascript": [
       "\n",
       "            setTimeout(function() {\n",
       "                var nbb_cell_id = 26;\n",
       "                var nbb_unformatted_code = \"get_predict_range(\\\"2016-01-01\\\", 14, \\\"D\\\")\";\n",
       "                var nbb_formatted_code = \"get_predict_range(\\\"2016-01-01\\\", 14, \\\"D\\\")\";\n",
       "                var nbb_cells = Jupyter.notebook.get_cells();\n",
       "                for (var i = 0; i < nbb_cells.length; ++i) {\n",
       "                    if (nbb_cells[i].input_prompt_number == nbb_cell_id) {\n",
       "                        if (nbb_cells[i].get_text() == nbb_unformatted_code) {\n",
       "                             nbb_cells[i].set_text(nbb_formatted_code);\n",
       "                        }\n",
       "                        break;\n",
       "                    }\n",
       "                }\n",
       "            }, 500);\n",
       "            "
      ],
      "text/plain": [
       "<IPython.core.display.Javascript object>"
      ]
     },
     "metadata": {},
     "output_type": "display_data"
    }
   ],
   "source": [
    "get_predict_range(\"2016-01-01\", 14, \"D\")"
   ]
  },
  {
   "cell_type": "code",
   "execution_count": 28,
   "id": "b5cf877f",
   "metadata": {},
   "outputs": [
    {
     "data": {
      "application/javascript": [
       "\n",
       "            setTimeout(function() {\n",
       "                var nbb_cell_id = 28;\n",
       "                var nbb_unformatted_code = \"def train_and_predict(\\n    trips, holidays, predict_beg_d, horizon, freq, train_beg_d=None, train_end_d=None\\n):\\n    predict_beg_d, predict_end_d = get_predict_range(predict_beg_d, horizon, freq)\\n    \\n    if train_beg_d is None:\\n        train_beg_d = trips.ds.min()\\n    if train_end_d is None:\\n        train_end_d = pd.to_datetime(predict_beg_d) + pd.Timedelta(-1, \\\"D\\\")\\n\\n    train = trips[(trips.ds >= train_beg_d) & (trips.ds <= train_end_d)].copy()\\n    test = trips[(trips.ds >= predict_beg_d) & (trips.ds <= predict_end_d)].copy()\\n\\n    mod = Prophet(holidays=holidays, seasonality_mode=\\\"multiplicative\\\")\\n    mod.add_regressor(\\\"tmax\\\")\\n    mod.add_regressor(\\\"precip\\\")\\n    # mod.add_regressor('tmin') # don't add tmin as it is too correlated with tmax\\n    mod.fit(train)\\n    forecast = mod.predict(test)[[\\\"ds\\\", \\\"yhat\\\"]]\\n\\n    return forecast\";\n",
       "                var nbb_formatted_code = \"def train_and_predict(\\n    trips, holidays, predict_beg_d, horizon, freq, train_beg_d=None, train_end_d=None\\n):\\n    predict_beg_d, predict_end_d = get_predict_range(predict_beg_d, horizon, freq)\\n\\n    if train_beg_d is None:\\n        train_beg_d = trips.ds.min()\\n    if train_end_d is None:\\n        train_end_d = pd.to_datetime(predict_beg_d) + pd.Timedelta(-1, \\\"D\\\")\\n\\n    train = trips[(trips.ds >= train_beg_d) & (trips.ds <= train_end_d)].copy()\\n    test = trips[(trips.ds >= predict_beg_d) & (trips.ds <= predict_end_d)].copy()\\n\\n    mod = Prophet(holidays=holidays, seasonality_mode=\\\"multiplicative\\\")\\n    mod.add_regressor(\\\"tmax\\\")\\n    mod.add_regressor(\\\"precip\\\")\\n    # mod.add_regressor('tmin') # don't add tmin as it is too correlated with tmax\\n    mod.fit(train)\\n    forecast = mod.predict(test)[[\\\"ds\\\", \\\"yhat\\\"]]\\n\\n    return forecast\";\n",
       "                var nbb_cells = Jupyter.notebook.get_cells();\n",
       "                for (var i = 0; i < nbb_cells.length; ++i) {\n",
       "                    if (nbb_cells[i].input_prompt_number == nbb_cell_id) {\n",
       "                        if (nbb_cells[i].get_text() == nbb_unformatted_code) {\n",
       "                             nbb_cells[i].set_text(nbb_formatted_code);\n",
       "                        }\n",
       "                        break;\n",
       "                    }\n",
       "                }\n",
       "            }, 500);\n",
       "            "
      ],
      "text/plain": [
       "<IPython.core.display.Javascript object>"
      ]
     },
     "metadata": {},
     "output_type": "display_data"
    }
   ],
   "source": [
    "def train_and_predict(\n",
    "    trips, holidays, predict_beg_d, horizon, freq, train_beg_d=None, train_end_d=None\n",
    "):\n",
    "    predict_beg_d, predict_end_d = get_predict_range(predict_beg_d, horizon, freq)\n",
    "\n",
    "    if train_beg_d is None:\n",
    "        train_beg_d = trips.ds.min()\n",
    "    if train_end_d is None:\n",
    "        train_end_d = pd.to_datetime(predict_beg_d) + pd.Timedelta(-1, \"D\")\n",
    "\n",
    "    train = trips[(trips.ds >= train_beg_d) & (trips.ds <= train_end_d)].copy()\n",
    "    test = trips[(trips.ds >= predict_beg_d) & (trips.ds <= predict_end_d)].copy()\n",
    "\n",
    "    mod = Prophet(holidays=holidays, seasonality_mode=\"multiplicative\")\n",
    "    mod.add_regressor(\"tmax\")\n",
    "    mod.add_regressor(\"precip\")\n",
    "    # mod.add_regressor('tmin') # don't add tmin as it is too correlated with tmax\n",
    "    mod.fit(train)\n",
    "    forecast = mod.predict(test)[[\"ds\", \"yhat\"]]\n",
    "\n",
    "    return forecast"
   ]
  },
  {
   "cell_type": "code",
   "execution_count": 41,
   "id": "f8b3aa99",
   "metadata": {
    "scrolled": false
   },
   "outputs": [
    {
     "name": "stderr",
     "output_type": "stream",
     "text": [
      "17:19:52 - cmdstanpy - INFO - Chain [1] start processing\n",
      "17:19:53 - cmdstanpy - INFO - Chain [1] done processing\n",
      "17:19:53 - cmdstanpy - INFO - Chain [1] start processing\n",
      "17:19:53 - cmdstanpy - INFO - Chain [1] done processing\n",
      "17:19:54 - cmdstanpy - INFO - Chain [1] start processing\n",
      "17:19:54 - cmdstanpy - INFO - Chain [1] done processing\n",
      "17:19:54 - cmdstanpy - INFO - Chain [1] start processing\n",
      "17:19:54 - cmdstanpy - INFO - Chain [1] done processing\n",
      "17:19:55 - cmdstanpy - INFO - Chain [1] start processing\n",
      "17:19:55 - cmdstanpy - INFO - Chain [1] done processing\n",
      "17:19:56 - cmdstanpy - INFO - Chain [1] start processing\n",
      "17:19:56 - cmdstanpy - INFO - Chain [1] done processing\n",
      "17:19:56 - cmdstanpy - INFO - Chain [1] start processing\n",
      "17:19:56 - cmdstanpy - INFO - Chain [1] done processing\n",
      "17:19:57 - cmdstanpy - INFO - Chain [1] start processing\n",
      "17:19:57 - cmdstanpy - INFO - Chain [1] done processing\n",
      "17:19:57 - cmdstanpy - INFO - Chain [1] start processing\n",
      "17:19:58 - cmdstanpy - INFO - Chain [1] done processing\n",
      "17:19:58 - cmdstanpy - INFO - Chain [1] start processing\n",
      "17:19:58 - cmdstanpy - INFO - Chain [1] done processing\n",
      "17:19:59 - cmdstanpy - INFO - Chain [1] start processing\n",
      "17:19:59 - cmdstanpy - INFO - Chain [1] done processing\n",
      "17:19:59 - cmdstanpy - INFO - Chain [1] start processing\n",
      "17:19:59 - cmdstanpy - INFO - Chain [1] done processing\n",
      "17:20:00 - cmdstanpy - INFO - Chain [1] start processing\n",
      "17:20:00 - cmdstanpy - INFO - Chain [1] done processing\n",
      "17:20:00 - cmdstanpy - INFO - Chain [1] start processing\n",
      "17:20:00 - cmdstanpy - INFO - Chain [1] done processing\n",
      "17:20:01 - cmdstanpy - INFO - Chain [1] start processing\n",
      "17:20:01 - cmdstanpy - INFO - Chain [1] done processing\n",
      "17:20:02 - cmdstanpy - INFO - Chain [1] start processing\n",
      "17:20:02 - cmdstanpy - INFO - Chain [1] done processing\n",
      "17:20:02 - cmdstanpy - INFO - Chain [1] start processing\n",
      "17:20:02 - cmdstanpy - INFO - Chain [1] done processing\n",
      "17:20:03 - cmdstanpy - INFO - Chain [1] start processing\n",
      "17:20:03 - cmdstanpy - INFO - Chain [1] done processing\n",
      "17:20:03 - cmdstanpy - INFO - Chain [1] start processing\n",
      "17:20:04 - cmdstanpy - INFO - Chain [1] done processing\n",
      "17:20:04 - cmdstanpy - INFO - Chain [1] start processing\n",
      "17:20:04 - cmdstanpy - INFO - Chain [1] done processing\n",
      "17:20:05 - cmdstanpy - INFO - Chain [1] start processing\n",
      "17:20:05 - cmdstanpy - INFO - Chain [1] done processing\n",
      "17:20:05 - cmdstanpy - INFO - Chain [1] start processing\n",
      "17:20:05 - cmdstanpy - INFO - Chain [1] done processing\n",
      "17:20:06 - cmdstanpy - INFO - Chain [1] start processing\n",
      "17:20:06 - cmdstanpy - INFO - Chain [1] done processing\n",
      "17:20:07 - cmdstanpy - INFO - Chain [1] start processing\n",
      "17:20:07 - cmdstanpy - INFO - Chain [1] done processing\n",
      "17:20:07 - cmdstanpy - INFO - Chain [1] start processing\n",
      "17:20:07 - cmdstanpy - INFO - Chain [1] done processing\n",
      "17:20:08 - cmdstanpy - INFO - Chain [1] start processing\n",
      "17:20:08 - cmdstanpy - INFO - Chain [1] done processing\n",
      "17:20:08 - cmdstanpy - INFO - Chain [1] start processing\n",
      "17:20:09 - cmdstanpy - INFO - Chain [1] done processing\n",
      "17:20:09 - cmdstanpy - INFO - Chain [1] start processing\n",
      "17:20:09 - cmdstanpy - INFO - Chain [1] done processing\n",
      "17:20:10 - cmdstanpy - INFO - Chain [1] start processing\n",
      "17:20:10 - cmdstanpy - INFO - Chain [1] done processing\n",
      "17:20:10 - cmdstanpy - INFO - Chain [1] start processing\n",
      "17:20:10 - cmdstanpy - INFO - Chain [1] done processing\n",
      "17:20:11 - cmdstanpy - INFO - Chain [1] start processing\n",
      "17:20:11 - cmdstanpy - INFO - Chain [1] done processing\n",
      "17:20:12 - cmdstanpy - INFO - Chain [1] start processing\n",
      "17:20:12 - cmdstanpy - INFO - Chain [1] done processing\n",
      "17:20:12 - cmdstanpy - INFO - Chain [1] start processing\n",
      "17:20:12 - cmdstanpy - INFO - Chain [1] done processing\n",
      "17:20:13 - cmdstanpy - INFO - Chain [1] start processing\n",
      "17:20:13 - cmdstanpy - INFO - Chain [1] done processing\n",
      "17:20:13 - cmdstanpy - INFO - Chain [1] start processing\n",
      "17:20:13 - cmdstanpy - INFO - Chain [1] done processing\n",
      "17:20:14 - cmdstanpy - INFO - Chain [1] start processing\n",
      "17:20:14 - cmdstanpy - INFO - Chain [1] done processing\n",
      "17:20:15 - cmdstanpy - INFO - Chain [1] start processing\n",
      "17:20:15 - cmdstanpy - INFO - Chain [1] done processing\n",
      "17:20:15 - cmdstanpy - INFO - Chain [1] start processing\n",
      "17:20:15 - cmdstanpy - INFO - Chain [1] done processing\n",
      "17:20:16 - cmdstanpy - INFO - Chain [1] start processing\n",
      "17:20:16 - cmdstanpy - INFO - Chain [1] done processing\n",
      "17:20:16 - cmdstanpy - INFO - Chain [1] start processing\n",
      "17:20:17 - cmdstanpy - INFO - Chain [1] done processing\n",
      "17:20:17 - cmdstanpy - INFO - Chain [1] start processing\n",
      "17:20:17 - cmdstanpy - INFO - Chain [1] done processing\n",
      "17:20:18 - cmdstanpy - INFO - Chain [1] start processing\n",
      "17:20:18 - cmdstanpy - INFO - Chain [1] done processing\n",
      "17:20:18 - cmdstanpy - INFO - Chain [1] start processing\n",
      "17:20:19 - cmdstanpy - INFO - Chain [1] done processing\n",
      "17:20:19 - cmdstanpy - INFO - Chain [1] start processing\n",
      "17:20:19 - cmdstanpy - INFO - Chain [1] done processing\n",
      "17:20:20 - cmdstanpy - INFO - Chain [1] start processing\n",
      "17:20:20 - cmdstanpy - INFO - Chain [1] done processing\n",
      "17:20:20 - cmdstanpy - INFO - Chain [1] start processing\n",
      "17:20:21 - cmdstanpy - INFO - Chain [1] done processing\n",
      "17:20:21 - cmdstanpy - INFO - Chain [1] start processing\n",
      "17:20:21 - cmdstanpy - INFO - Chain [1] done processing\n",
      "17:20:22 - cmdstanpy - INFO - Chain [1] start processing\n",
      "17:20:22 - cmdstanpy - INFO - Chain [1] done processing\n",
      "17:20:22 - cmdstanpy - INFO - Chain [1] start processing\n",
      "17:20:23 - cmdstanpy - INFO - Chain [1] done processing\n",
      "17:20:23 - cmdstanpy - INFO - Chain [1] start processing\n",
      "17:20:23 - cmdstanpy - INFO - Chain [1] done processing\n",
      "17:20:24 - cmdstanpy - INFO - Chain [1] start processing\n",
      "17:20:24 - cmdstanpy - INFO - Chain [1] done processing\n",
      "17:20:24 - cmdstanpy - INFO - Chain [1] start processing\n",
      "17:20:25 - cmdstanpy - INFO - Chain [1] done processing\n",
      "17:20:25 - cmdstanpy - INFO - Chain [1] start processing\n",
      "17:20:25 - cmdstanpy - INFO - Chain [1] done processing\n",
      "17:20:26 - cmdstanpy - INFO - Chain [1] start processing\n",
      "17:20:26 - cmdstanpy - INFO - Chain [1] done processing\n",
      "17:20:26 - cmdstanpy - INFO - Chain [1] start processing\n",
      "17:20:27 - cmdstanpy - INFO - Chain [1] done processing\n",
      "17:20:27 - cmdstanpy - INFO - Chain [1] start processing\n",
      "17:20:27 - cmdstanpy - INFO - Chain [1] done processing\n",
      "17:20:28 - cmdstanpy - INFO - Chain [1] start processing\n",
      "17:20:28 - cmdstanpy - INFO - Chain [1] done processing\n",
      "17:20:28 - cmdstanpy - INFO - Chain [1] start processing\n",
      "17:20:29 - cmdstanpy - INFO - Chain [1] done processing\n",
      "17:20:29 - cmdstanpy - INFO - Chain [1] start processing\n",
      "17:20:29 - cmdstanpy - INFO - Chain [1] done processing\n",
      "17:20:30 - cmdstanpy - INFO - Chain [1] start processing\n",
      "17:20:30 - cmdstanpy - INFO - Chain [1] done processing\n",
      "17:20:30 - cmdstanpy - INFO - Chain [1] start processing\n",
      "17:20:31 - cmdstanpy - INFO - Chain [1] done processing\n",
      "17:20:31 - cmdstanpy - INFO - Chain [1] start processing\n",
      "17:20:31 - cmdstanpy - INFO - Chain [1] done processing\n",
      "17:20:32 - cmdstanpy - INFO - Chain [1] start processing\n",
      "17:20:32 - cmdstanpy - INFO - Chain [1] done processing\n",
      "17:20:32 - cmdstanpy - INFO - Chain [1] start processing\n",
      "17:20:33 - cmdstanpy - INFO - Chain [1] done processing\n",
      "17:20:33 - cmdstanpy - INFO - Chain [1] start processing\n",
      "17:20:33 - cmdstanpy - INFO - Chain [1] done processing\n",
      "17:20:34 - cmdstanpy - INFO - Chain [1] start processing\n",
      "17:20:34 - cmdstanpy - INFO - Chain [1] done processing\n",
      "17:20:34 - cmdstanpy - INFO - Chain [1] start processing\n",
      "17:20:34 - cmdstanpy - INFO - Chain [1] done processing\n",
      "17:20:35 - cmdstanpy - INFO - Chain [1] start processing\n",
      "17:20:35 - cmdstanpy - INFO - Chain [1] done processing\n",
      "17:20:35 - cmdstanpy - INFO - Chain [1] start processing\n",
      "17:20:36 - cmdstanpy - INFO - Chain [1] done processing\n",
      "17:20:36 - cmdstanpy - INFO - Chain [1] start processing\n",
      "17:20:36 - cmdstanpy - INFO - Chain [1] done processing\n",
      "17:20:37 - cmdstanpy - INFO - Chain [1] start processing\n",
      "17:20:37 - cmdstanpy - INFO - Chain [1] done processing\n",
      "17:20:37 - cmdstanpy - INFO - Chain [1] start processing\n",
      "17:20:38 - cmdstanpy - INFO - Chain [1] done processing\n",
      "17:20:38 - cmdstanpy - INFO - Chain [1] start processing\n"
     ]
    },
    {
     "name": "stderr",
     "output_type": "stream",
     "text": [
      "17:20:38 - cmdstanpy - INFO - Chain [1] done processing\n",
      "17:20:39 - cmdstanpy - INFO - Chain [1] start processing\n",
      "17:20:39 - cmdstanpy - INFO - Chain [1] done processing\n",
      "17:20:39 - cmdstanpy - INFO - Chain [1] start processing\n",
      "17:20:39 - cmdstanpy - INFO - Chain [1] done processing\n",
      "17:20:40 - cmdstanpy - INFO - Chain [1] start processing\n",
      "17:20:40 - cmdstanpy - INFO - Chain [1] done processing\n",
      "17:20:41 - cmdstanpy - INFO - Chain [1] start processing\n",
      "17:20:41 - cmdstanpy - INFO - Chain [1] done processing\n",
      "17:20:41 - cmdstanpy - INFO - Chain [1] start processing\n",
      "17:20:41 - cmdstanpy - INFO - Chain [1] done processing\n",
      "17:20:42 - cmdstanpy - INFO - Chain [1] start processing\n",
      "17:20:42 - cmdstanpy - INFO - Chain [1] done processing\n",
      "17:20:43 - cmdstanpy - INFO - Chain [1] start processing\n",
      "17:20:43 - cmdstanpy - INFO - Chain [1] done processing\n",
      "17:20:43 - cmdstanpy - INFO - Chain [1] start processing\n",
      "17:20:44 - cmdstanpy - INFO - Chain [1] done processing\n",
      "17:20:44 - cmdstanpy - INFO - Chain [1] start processing\n",
      "17:20:44 - cmdstanpy - INFO - Chain [1] done processing\n",
      "17:20:45 - cmdstanpy - INFO - Chain [1] start processing\n",
      "17:20:45 - cmdstanpy - INFO - Chain [1] done processing\n",
      "17:20:45 - cmdstanpy - INFO - Chain [1] start processing\n",
      "17:20:46 - cmdstanpy - INFO - Chain [1] done processing\n",
      "17:20:46 - cmdstanpy - INFO - Chain [1] start processing\n",
      "17:20:46 - cmdstanpy - INFO - Chain [1] done processing\n",
      "17:20:47 - cmdstanpy - INFO - Chain [1] start processing\n",
      "17:20:47 - cmdstanpy - INFO - Chain [1] done processing\n",
      "17:20:47 - cmdstanpy - INFO - Chain [1] start processing\n",
      "17:20:48 - cmdstanpy - INFO - Chain [1] done processing\n",
      "17:20:48 - cmdstanpy - INFO - Chain [1] start processing\n",
      "17:20:48 - cmdstanpy - INFO - Chain [1] done processing\n",
      "17:20:49 - cmdstanpy - INFO - Chain [1] start processing\n",
      "17:20:49 - cmdstanpy - INFO - Chain [1] done processing\n",
      "17:20:49 - cmdstanpy - INFO - Chain [1] start processing\n",
      "17:20:50 - cmdstanpy - INFO - Chain [1] done processing\n",
      "17:20:50 - cmdstanpy - INFO - Chain [1] start processing\n",
      "17:20:50 - cmdstanpy - INFO - Chain [1] done processing\n",
      "17:20:51 - cmdstanpy - INFO - Chain [1] start processing\n",
      "17:20:51 - cmdstanpy - INFO - Chain [1] done processing\n",
      "17:20:52 - cmdstanpy - INFO - Chain [1] start processing\n",
      "17:20:52 - cmdstanpy - INFO - Chain [1] done processing\n",
      "17:20:52 - cmdstanpy - INFO - Chain [1] start processing\n",
      "17:20:52 - cmdstanpy - INFO - Chain [1] done processing\n",
      "17:20:53 - cmdstanpy - INFO - Chain [1] start processing\n",
      "17:20:53 - cmdstanpy - INFO - Chain [1] done processing\n",
      "17:20:54 - cmdstanpy - INFO - Chain [1] start processing\n",
      "17:20:54 - cmdstanpy - INFO - Chain [1] done processing\n",
      "17:20:54 - cmdstanpy - INFO - Chain [1] start processing\n",
      "17:20:54 - cmdstanpy - INFO - Chain [1] done processing\n",
      "17:20:55 - cmdstanpy - INFO - Chain [1] start processing\n",
      "17:20:55 - cmdstanpy - INFO - Chain [1] done processing\n",
      "17:20:56 - cmdstanpy - INFO - Chain [1] start processing\n",
      "17:20:56 - cmdstanpy - INFO - Chain [1] done processing\n",
      "17:20:56 - cmdstanpy - INFO - Chain [1] start processing\n",
      "17:20:56 - cmdstanpy - INFO - Chain [1] done processing\n",
      "17:20:57 - cmdstanpy - INFO - Chain [1] start processing\n",
      "17:20:57 - cmdstanpy - INFO - Chain [1] done processing\n",
      "17:20:58 - cmdstanpy - INFO - Chain [1] start processing\n",
      "17:20:58 - cmdstanpy - INFO - Chain [1] done processing\n",
      "17:20:59 - cmdstanpy - INFO - Chain [1] start processing\n",
      "17:20:59 - cmdstanpy - INFO - Chain [1] done processing\n"
     ]
    },
    {
     "data": {
      "application/javascript": [
       "\n",
       "            setTimeout(function() {\n",
       "                var nbb_cell_id = 41;\n",
       "                var nbb_unformatted_code = \"start_dates = pd.date_range(\\\"2016-01-01\\\", \\\"2017-12-18\\\", freq=\\\"W\\\")\\nforecast_list = []\\n\\nfor sd in start_dates:\\n    forecast = train_and_predict(trips, holidays, sd, 7, \\\"D\\\")\\n    forecast[\\\"version\\\"] = sd\\n    forecast[\\\"horizon\\\"] = forecast.ds - forecast[\\\"version\\\"]\\n    forecast_list.append(forecast)\";\n",
       "                var nbb_formatted_code = \"start_dates = pd.date_range(\\\"2016-01-01\\\", \\\"2017-12-18\\\", freq=\\\"W\\\")\\nforecast_list = []\\n\\nfor sd in start_dates:\\n    forecast = train_and_predict(trips, holidays, sd, 7, \\\"D\\\")\\n    forecast[\\\"version\\\"] = sd\\n    forecast[\\\"horizon\\\"] = forecast.ds - forecast[\\\"version\\\"]\\n    forecast_list.append(forecast)\";\n",
       "                var nbb_cells = Jupyter.notebook.get_cells();\n",
       "                for (var i = 0; i < nbb_cells.length; ++i) {\n",
       "                    if (nbb_cells[i].input_prompt_number == nbb_cell_id) {\n",
       "                        if (nbb_cells[i].get_text() == nbb_unformatted_code) {\n",
       "                             nbb_cells[i].set_text(nbb_formatted_code);\n",
       "                        }\n",
       "                        break;\n",
       "                    }\n",
       "                }\n",
       "            }, 500);\n",
       "            "
      ],
      "text/plain": [
       "<IPython.core.display.Javascript object>"
      ]
     },
     "metadata": {},
     "output_type": "display_data"
    }
   ],
   "source": [
    "start_dates = pd.date_range(\"2016-01-01\", \"2017-12-18\", freq=\"W\")\n",
    "forecast_list = []\n",
    "\n",
    "for sd in start_dates:\n",
    "    forecast = train_and_predict(trips, holidays, sd, 7, \"D\")\n",
    "    forecast[\"version\"] = sd\n",
    "    forecast[\"horizon\"] = forecast.ds - forecast[\"version\"]\n",
    "    forecast_list.append(forecast)\n"
   ]
  },
  {
   "cell_type": "code",
   "execution_count": 43,
   "id": "1331b9b4",
   "metadata": {},
   "outputs": [
    {
     "data": {
      "application/javascript": [
       "\n",
       "            setTimeout(function() {\n",
       "                var nbb_cell_id = 43;\n",
       "                var nbb_unformatted_code = \"results = pd.concat(forecast_list)\";\n",
       "                var nbb_formatted_code = \"results = pd.concat(forecast_list)\";\n",
       "                var nbb_cells = Jupyter.notebook.get_cells();\n",
       "                for (var i = 0; i < nbb_cells.length; ++i) {\n",
       "                    if (nbb_cells[i].input_prompt_number == nbb_cell_id) {\n",
       "                        if (nbb_cells[i].get_text() == nbb_unformatted_code) {\n",
       "                             nbb_cells[i].set_text(nbb_formatted_code);\n",
       "                        }\n",
       "                        break;\n",
       "                    }\n",
       "                }\n",
       "            }, 500);\n",
       "            "
      ],
      "text/plain": [
       "<IPython.core.display.Javascript object>"
      ]
     },
     "metadata": {},
     "output_type": "display_data"
    }
   ],
   "source": [
    "results = pd.concat(forecast_list)"
   ]
  },
  {
   "cell_type": "code",
   "execution_count": 45,
   "id": "d11a06b0",
   "metadata": {},
   "outputs": [
    {
     "data": {
      "application/javascript": [
       "\n",
       "            setTimeout(function() {\n",
       "                var nbb_cell_id = 45;\n",
       "                var nbb_unformatted_code = \"results = results.merge(trips[['ds', 'y']], how='left', on='ds')\";\n",
       "                var nbb_formatted_code = \"results = results.merge(trips[[\\\"ds\\\", \\\"y\\\"]], how=\\\"left\\\", on=\\\"ds\\\")\";\n",
       "                var nbb_cells = Jupyter.notebook.get_cells();\n",
       "                for (var i = 0; i < nbb_cells.length; ++i) {\n",
       "                    if (nbb_cells[i].input_prompt_number == nbb_cell_id) {\n",
       "                        if (nbb_cells[i].get_text() == nbb_unformatted_code) {\n",
       "                             nbb_cells[i].set_text(nbb_formatted_code);\n",
       "                        }\n",
       "                        break;\n",
       "                    }\n",
       "                }\n",
       "            }, 500);\n",
       "            "
      ],
      "text/plain": [
       "<IPython.core.display.Javascript object>"
      ]
     },
     "metadata": {},
     "output_type": "display_data"
    }
   ],
   "source": [
    "results = results.merge(trips[[\"ds\", \"y\"]], how=\"left\", on=\"ds\")"
   ]
  },
  {
   "cell_type": "code",
   "execution_count": 55,
   "id": "49096d21",
   "metadata": {},
   "outputs": [
    {
     "data": {
      "text/plain": [
       "0.271068274130998"
      ]
     },
     "execution_count": 55,
     "metadata": {},
     "output_type": "execute_result"
    },
    {
     "data": {
      "application/javascript": [
       "\n",
       "            setTimeout(function() {\n",
       "                var nbb_cell_id = 55;\n",
       "                var nbb_unformatted_code = \"mape(results['y'], results['yhat'])\";\n",
       "                var nbb_formatted_code = \"mape(results[\\\"y\\\"], results[\\\"yhat\\\"])\";\n",
       "                var nbb_cells = Jupyter.notebook.get_cells();\n",
       "                for (var i = 0; i < nbb_cells.length; ++i) {\n",
       "                    if (nbb_cells[i].input_prompt_number == nbb_cell_id) {\n",
       "                        if (nbb_cells[i].get_text() == nbb_unformatted_code) {\n",
       "                             nbb_cells[i].set_text(nbb_formatted_code);\n",
       "                        }\n",
       "                        break;\n",
       "                    }\n",
       "                }\n",
       "            }, 500);\n",
       "            "
      ],
      "text/plain": [
       "<IPython.core.display.Javascript object>"
      ]
     },
     "metadata": {},
     "output_type": "display_data"
    }
   ],
   "source": [
    "mape(results[\"y\"], results[\"yhat\"])"
   ]
  },
  {
   "cell_type": "code",
   "execution_count": 49,
   "id": "72119f18",
   "metadata": {},
   "outputs": [
    {
     "data": {
      "text/plain": [
       "horizon\n",
       "0 days    0.276680\n",
       "1 days    0.282076\n",
       "2 days    0.238251\n",
       "3 days    0.269285\n",
       "4 days    0.220925\n",
       "5 days    0.225595\n",
       "6 days    0.385621\n",
       "dtype: float64"
      ]
     },
     "execution_count": 49,
     "metadata": {},
     "output_type": "execute_result"
    },
    {
     "data": {
      "application/javascript": [
       "\n",
       "            setTimeout(function() {\n",
       "                var nbb_cell_id = 49;\n",
       "                var nbb_unformatted_code = \"results.groupby(\\\"horizon\\\").apply(lambda row: mape(row['y'], row['yhat']))\";\n",
       "                var nbb_formatted_code = \"results.groupby(\\\"horizon\\\").apply(lambda row: mape(row[\\\"y\\\"], row[\\\"yhat\\\"]))\";\n",
       "                var nbb_cells = Jupyter.notebook.get_cells();\n",
       "                for (var i = 0; i < nbb_cells.length; ++i) {\n",
       "                    if (nbb_cells[i].input_prompt_number == nbb_cell_id) {\n",
       "                        if (nbb_cells[i].get_text() == nbb_unformatted_code) {\n",
       "                             nbb_cells[i].set_text(nbb_formatted_code);\n",
       "                        }\n",
       "                        break;\n",
       "                    }\n",
       "                }\n",
       "            }, 500);\n",
       "            "
      ],
      "text/plain": [
       "<IPython.core.display.Javascript object>"
      ]
     },
     "metadata": {},
     "output_type": "display_data"
    }
   ],
   "source": [
    "results.groupby(\"horizon\").apply(lambda row: mape(row[\"y\"], row[\"yhat\"]))"
   ]
  },
  {
   "cell_type": "code",
   "execution_count": 54,
   "id": "0ac8bdde",
   "metadata": {},
   "outputs": [
    {
     "data": {
      "text/plain": [
       "version\n",
       "2016-01-03    0.220897\n",
       "2016-01-10    0.189315\n",
       "2016-01-17    0.638106\n",
       "2016-01-24    3.340876\n",
       "2016-01-31    0.160015\n",
       "                ...   \n",
       "2017-11-19    0.125861\n",
       "2017-11-26    0.194862\n",
       "2017-12-03    0.370322\n",
       "2017-12-10    0.244271\n",
       "2017-12-17    0.347769\n",
       "Length: 103, dtype: float64"
      ]
     },
     "execution_count": 54,
     "metadata": {},
     "output_type": "execute_result"
    },
    {
     "data": {
      "application/javascript": [
       "\n",
       "            setTimeout(function() {\n",
       "                var nbb_cell_id = 54;\n",
       "                var nbb_unformatted_code = \"results.groupby(\\\"version\\\").apply(lambda row: mape(row[\\\"y\\\"], row[\\\"yhat\\\"]))\";\n",
       "                var nbb_formatted_code = \"results.groupby(\\\"version\\\").apply(lambda row: mape(row[\\\"y\\\"], row[\\\"yhat\\\"]))\";\n",
       "                var nbb_cells = Jupyter.notebook.get_cells();\n",
       "                for (var i = 0; i < nbb_cells.length; ++i) {\n",
       "                    if (nbb_cells[i].input_prompt_number == nbb_cell_id) {\n",
       "                        if (nbb_cells[i].get_text() == nbb_unformatted_code) {\n",
       "                             nbb_cells[i].set_text(nbb_formatted_code);\n",
       "                        }\n",
       "                        break;\n",
       "                    }\n",
       "                }\n",
       "            }, 500);\n",
       "            "
      ],
      "text/plain": [
       "<IPython.core.display.Javascript object>"
      ]
     },
     "metadata": {},
     "output_type": "display_data"
    }
   ],
   "source": [
    "results.groupby(\"version\").apply(lambda row: mape(row[\"y\"], row[\"yhat\"]))"
   ]
  },
  {
   "cell_type": "code",
   "execution_count": 53,
   "id": "2286de82",
   "metadata": {},
   "outputs": [
    {
     "data": {
      "text/plain": [
       "<AxesSubplot:ylabel='Density'>"
      ]
     },
     "execution_count": 53,
     "metadata": {},
     "output_type": "execute_result"
    },
    {
     "data": {
      "image/png": "[encoded data removed]",
      "text/plain": [
       "<Figure size 1152x720 with 1 Axes>"
      ]
     },
     "metadata": {
      "needs_background": "light"
     },
     "output_type": "display_data"
    },
    {
     "data": {
      "application/javascript": [
       "\n",
       "            setTimeout(function() {\n",
       "                var nbb_cell_id = 53;\n",
       "                var nbb_unformatted_code = \"sns.kdeplot(results.groupby(\\\"version\\\").apply(lambda row: mape(row[\\\"y\\\"], row[\\\"yhat\\\"])))\";\n",
       "                var nbb_formatted_code = \"sns.kdeplot(results.groupby(\\\"version\\\").apply(lambda row: mape(row[\\\"y\\\"], row[\\\"yhat\\\"])))\";\n",
       "                var nbb_cells = Jupyter.notebook.get_cells();\n",
       "                for (var i = 0; i < nbb_cells.length; ++i) {\n",
       "                    if (nbb_cells[i].input_prompt_number == nbb_cell_id) {\n",
       "                        if (nbb_cells[i].get_text() == nbb_unformatted_code) {\n",
       "                             nbb_cells[i].set_text(nbb_formatted_code);\n",
       "                        }\n",
       "                        break;\n",
       "                    }\n",
       "                }\n",
       "            }, 500);\n",
       "            "
      ],
      "text/plain": [
       "<IPython.core.display.Javascript object>"
      ]
     },
     "metadata": {},
     "output_type": "display_data"
    }
   ],
   "source": [
    "sns.kdeplot(results.groupby(\"version\").apply(lambda row: mape(row[\"y\"], row[\"yhat\"])))"
   ]
  }
 ],
 "metadata": {
  "kernelspec": {
   "display_name": "Python 3 (ipykernel)",
   "language": "python",
   "name": "python3"
  },
  "language_info": {
   "codemirror_mode": {
    "name": "ipython",
    "version": 3
   },
   "file_extension": ".py",
   "mimetype": "text/x-python",
   "name": "python",
   "nbconvert_exporter": "python",
   "pygments_lexer": "ipython3",
   "version": "3.7.4"
  }
 },
 "nbformat": 4,
 "nbformat_minor": 5
}
